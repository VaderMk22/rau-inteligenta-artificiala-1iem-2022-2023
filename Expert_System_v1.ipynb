{
 "cells": [
  {
   "cell_type": "code",
   "execution_count": 1,
   "metadata": {},
   "outputs": [],
   "source": [
    "class Semafor:\n",
    "    def __init__(self, stare='Rosu'):\n",
    "        # stare = Rosu sau Verde\n",
    "        self.stare = stare \n",
    "\n",
    "class Vehicul:\n",
    "    def __init__(self, stare='Oprit'):\n",
    "        # stare = Oprit sau Pornit\n",
    "        self.stare = stare\n",
    "\n",
    "class Robot:\n",
    "    def __init__(self, stare='Oprit'):\n",
    "        # stare = Oprit sau Pornit\n",
    "        self.stare = stare \n",
    "\n",
    "    def knowledge_base(self, semafor, vehicul):\n",
    "        if semafor.stare == 'Rosu':\n",
    "            return 'Oprit'\n",
    "\n",
    "        if semafor.stare == 'Verde' and vehicul.stare == 'Oprit':\n",
    "            return 'Pornit'\n",
    "        \n",
    "        if semafor.stare == 'Verde' and vehicul.stare == 'Pornit':\n",
    "            return 'Oprit'\n",
    "        \n",
    "    def next(self, semafor, vehicul):\n",
    "        self.stare = self.knowledge_base(semafor, vehicul)"
   ]
  },
  {
   "cell_type": "code",
   "execution_count": 4,
   "metadata": {},
   "outputs": [
    {
     "name": "stdout",
     "output_type": "stream",
     "text": [
      "Urmatoarea actiune = Oprit\n"
     ]
    }
   ],
   "source": [
    "semafor = Semafor('Verde')\n",
    "masina = Vehicul('Pornit')\n",
    "agent = Robot()\n",
    "\n",
    "agent.next(semafor, masina)\n",
    "print(f'Urmatoarea actiune = {agent.stare}')\n"
   ]
  },
  {
   "cell_type": "code",
   "execution_count": 8,
   "metadata": {},
   "outputs": [
    {
     "name": "stdout",
     "output_type": "stream",
     "text": [
      "Urmatoarea actiune = Pornit\n",
      "Urmatoarea actiune = Oprit\n",
      "Urmatoarea actiune (dupa schimbare semafor) = Pornit\n",
      "Urmatoarea actiune = Oprit\n"
     ]
    }
   ],
   "source": [
    "from time import sleep\n",
    "\n",
    "semafoare = [Semafor('Verde'), Semafor('Rosu'), Semafor('Verde')]\n",
    "masini = [Vehicul('Oprit'), Vehicul('Oprit'), Vehicul('Pornit')]\n",
    "\n",
    "change_color_time = 3\n",
    "\n",
    "for i in range(len(semafoare)):\n",
    "    agent.next(semafoare[i], masini[i])\n",
    "    print(f'Urmatoarea actiune = {agent.stare}')\n",
    "    if semafoare[i].stare == 'Rosu':\n",
    "        sleep(change_color_time)\n",
    "        semafoare[i].stare = 'Verde'\n",
    "        agent.next(semafoare[i], masini[i])\n",
    "        print(f'Urmatoarea actiune (dupa schimbare semafor) = {agent.stare}')\n",
    "        "
   ]
  },
  {
   "cell_type": "code",
   "execution_count": 9,
   "metadata": {},
   "outputs": [],
   "source": [
    "# if semafor.stare == rosu then robot.stare = oprit \n",
    "# if semafor.stare == verde & vehicul.stare == oprit then robot.stare = pornit\n",
    "# if semafor.stare == verde & vehicul.stare == pornit then robot.stare = oprit\n",
    "# if semafor.stare == rosu then vehicul.stare = pornit \n",
    "# if semafor.stare == verde & robot.stare == pornit then vehicul.stare = oprit\n",
    "# if semafor.stare == verde & robot.stare == oprit then vehicul.stare = pornit\n",
    "\n",
    "# THEN (noua stare a robotului, noua stare a masinii)\n",
    "\n",
    "# if semafor.stare == rosu then (oprit, None) \n",
    "# if semafor.stare == verde & vehicul.stare == oprit then (pornit, None)\n",
    "# if semafor.stare == verde & vehicul.stare == pornit then (oprit, None)\n",
    "# if semafor.stare == rosu then (None, pornit) \n",
    "# if semafor.stare == verde & robot.stare == pornit then (None, oprit)\n",
    "# if semafor.stare == verde & robot.stare == oprit then (None, pornit)\n",
    "\n",
    "# IF (starea curenta a semaforului, starea curenta a vehicului, starea curenta a robotului)\n",
    "\n",
    "# if (rosu, None, None) then (oprit, None) \n",
    "# if (verde, oprit, None) then (pornit, None)\n",
    "# if (verde, pornit, None) then (oprit, None)\n",
    "# if (rosu, None, None) then (None, pornit) \n",
    "# if (verde, None, pornit) then (None, oprit)\n",
    "# if (verde, None, oprit) then (None, pornit)\n",
    "\n",
    "knowledge_base = {\n",
    "    ('Rosu', None, None): ('Oprit', 'Pornit'),\n",
    "    ('Verde', 'Oprit', None): ('Pornit', None),\n",
    "    ('Verde', 'Pornit', None): ('Oprit', None),\n",
    "    ('Verde', None, 'Pornit'): (None, 'Oprit'),\n",
    "    ('Verde', None, 'Oprit'): (None, 'Pornit')\n",
    "}\n",
    "\n",
    "def next(semafor, vehicul, robot):\n",
    "    # filtrez regulile dupa valoarea semaforului\n",
    "    filtered_rules = []\n",
    "    for antecedent in knowledge_base.keys():\n",
    "        if antecedent[0] == semafor.stare:\n",
    "            filtered_rules.append((antecedent, knowledge_base[antecedent]))\n",
    "     \n",
    "    for rule in filtered_rules:\n",
    "        if rule[0][1] == vehicul.stare:\n",
    "            if rule[1][0] is not None:\n",
    "                robot.stare = rule[1][0]\n",
    "            if rule[1][1] is not None:\n",
    "                vehicul.stare = rule[1][1]\n",
    "        \n",
    "        elif rule[0][1] is None and rule[0][2] == robot.stare:\n",
    "            if rule[1][0] is not None:\n",
    "                robot.stare = rule[1][0]\n",
    "            if rule[1][1] is not None:\n",
    "                vehicul.stare = rule[1][1]\n",
    "\n",
    "        elif rule[0][1] is None and rule[0][2] is None:\n",
    "            if rule[1][0] is not None:\n",
    "                robot.stare = rule[1][0]\n",
    "            if rule[1][1] is not None:\n",
    "                robot.stare = rule[1][1]\n",
    "        \n"
   ]
  },
  {
   "cell_type": "code",
   "execution_count": 11,
   "metadata": {},
   "outputs": [
    {
     "name": "stdout",
     "output_type": "stream",
     "text": [
      "Semafor = Verde\n",
      "Vehicul = Pornit\n",
      "Robot = Oprit\n"
     ]
    }
   ],
   "source": [
    "robot = Robot('Pornit')\n",
    "semafor = Semafor('Verde')\n",
    "vehicul = Vehicul('Pornit')\n",
    "\n",
    "next(semafor, vehicul, robot)\n",
    "print(f'Semafor = {semafor.stare}')\n",
    "print(f'Vehicul = {vehicul.stare}')\n",
    "print(f'Robot = {robot.stare}')"
   ]
  },
  {
   "cell_type": "code",
   "execution_count": null,
   "metadata": {},
   "outputs": [],
   "source": []
  }
 ],
 "metadata": {
  "kernelspec": {
   "display_name": "base",
   "language": "python",
   "name": "python3"
  },
  "language_info": {
   "codemirror_mode": {
    "name": "ipython",
    "version": 3
   },
   "file_extension": ".py",
   "mimetype": "text/x-python",
   "name": "python",
   "nbconvert_exporter": "python",
   "pygments_lexer": "ipython3",
   "version": "3.9.12"
  },
  "orig_nbformat": 4
 },
 "nbformat": 4,
 "nbformat_minor": 2
}
